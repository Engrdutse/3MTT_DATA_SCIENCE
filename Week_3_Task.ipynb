{
  "nbformat": 4,
  "nbformat_minor": 0,
  "metadata": {
    "colab": {
      "provenance": [],
      "authorship_tag": "ABX9TyNlvCOWzD1lYckltx4DawtL",
      "include_colab_link": true
    },
    "kernelspec": {
      "name": "python3",
      "display_name": "Python 3"
    },
    "language_info": {
      "name": "python"
    }
  },
  "cells": [
    {
      "cell_type": "markdown",
      "metadata": {
        "id": "view-in-github",
        "colab_type": "text"
      },
      "source": [
        "<a href=\"https://colab.research.google.com/github/Engrdutse/3MTT_DATA_SCIENCE/blob/main/Week_3_Task.ipynb\" target=\"_parent\"><img src=\"https://colab.research.google.com/assets/colab-badge.svg\" alt=\"Open In Colab\"/></a>"
      ]
    },
    {
      "cell_type": "code",
      "execution_count": 8,
      "metadata": {
        "colab": {
          "base_uri": "https://localhost:8080/"
        },
        "id": "SH60kXnDXhM-",
        "outputId": "fb3f4ed6-91b8-4522-d976-cdaa3f45694f"
      },
      "outputs": [
        {
          "output_type": "stream",
          "name": "stdout",
          "text": [
            "List of names: ['Aliyu Abba', 'Baasiru Yusuf', 'Nura Isah', 'Aisha Muhammad', 'Usman Abubakar', 'Farida Garba']\n",
            "\n",
            "Tuple of ages: (35, 45, 51, 32, 26, 27)\n",
            "\n",
            "Set of genders: {'Male', 'Female'}\n",
            "\n",
            "Set of Cadre: {'Lecturer', 'Instructor'}\n",
            "\n",
            "Average age: 36.0\n",
            "\n",
            "Number of males: 4\n",
            "Number of females: 2\n",
            "\n",
            "Number of lecturers: 5\n",
            "Number of instructors: 1\n",
            "\n"
          ]
        }
      ],
      "source": [
        "# Departmental Profile\n",
        "profile = [(\"Aliyu Abba\", 35, \"Male\", \"Lecturer\"),\n",
        "              (\"Baasiru Yusuf\", 45, \"Male\", \"Lecturer\"),\n",
        "              (\"Nura Isah\", 51, \"Male\",\"Lecturer\"),\n",
        "              (\"Aisha Muhammad\", 32, \"Female\", \"Lecturer\"),\n",
        "              (\"Usman Abubakar\", 26, \"Male\", \"Lecturer\"),\n",
        "              (\"Farida Garba\", 27, \"Female\", \"Instructor\"),]\n",
        "\n",
        "# Generating list of names from profile\n",
        "names = [data[0] for data in profile]\n",
        "print(\"List of names:\", names)\n",
        "print()\n",
        "\n",
        "# Generating tuple of ages from profile\n",
        "ages = tuple(data[1] for data in profile)\n",
        "print(\"Tuple of ages:\", ages)\n",
        "print()\n",
        "\n",
        "# Generating set of genders from profile\n",
        "genders = {data[2] for data in profile}\n",
        "print(\"Set of genders:\", genders)\n",
        "print()\n",
        "\n",
        "# Generating set of cadre from profile\n",
        "cadre = {data[3] for data in profile}\n",
        "print(\"Set of Cadre:\", cadre)\n",
        "print()\n",
        "\n",
        "# Analyze the profile\n",
        "mean_age = sum(ages) / len(ages)\n",
        "print(\"Average age:\", mean_age)\n",
        "print()\n",
        "\n",
        "male_count = sum(data[2] == \"Male\" for data in profile)\n",
        "female_count = len(profile) - male_count\n",
        "print(\"Number of males:\", male_count)\n",
        "print(\"Number of females:\", female_count)\n",
        "print()\n",
        "\n",
        "lecturer_count = sum(data[3] == \"Lecturer\" for data in profile)\n",
        "instructor_count = len(profile) - lecturer_count\n",
        "print(\"Number of lecturers:\", lecturer_count)\n",
        "print(\"Number of instructors:\", instructor_count)\n",
        "print()"
      ]
    }
  ]
}