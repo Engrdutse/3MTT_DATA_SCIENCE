{
  "nbformat": 4,
  "nbformat_minor": 0,
  "metadata": {
    "colab": {
      "provenance": [],
      "authorship_tag": "ABX9TyNyOG0go6EEDy2Y2vOfik+S",
      "include_colab_link": true
    },
    "kernelspec": {
      "name": "python3",
      "display_name": "Python 3"
    },
    "language_info": {
      "name": "python"
    }
  },
  "cells": [
    {
      "cell_type": "markdown",
      "metadata": {
        "id": "view-in-github",
        "colab_type": "text"
      },
      "source": [
        "<a href=\"https://colab.research.google.com/github/Engrdutse/3MTT_DATA_SCIENCE/blob/main/WEEK4.ipynb\" target=\"_parent\"><img src=\"https://colab.research.google.com/assets/colab-badge.svg\" alt=\"Open In Colab\"/></a>"
      ]
    },
    {
      "cell_type": "code",
      "execution_count": 2,
      "metadata": {
        "colab": {
          "base_uri": "https://localhost:8080/"
        },
        "id": "R2-OmUDM6J0R",
        "outputId": "7441d40e-31bb-41c2-eac5-a76f2d022744"
      },
      "outputs": [
        {
          "output_type": "stream",
          "name": "stdout",
          "text": [
            "Student Data:\n",
            "Aliyu: 96\n",
            "Bashir: 80\n",
            "Musa: 95\n",
            "Dauda: 85\n",
            "Khadija: 92\n",
            "\n",
            "Analysis:\n",
            "Highest Grade: Aliyu\n",
            "Average Score: 89.6\n"
          ]
        }
      ],
      "source": [
        "# Creating students Score dictionary\n",
        "student_data = {\n",
        "    \"Aliyu\": 96,\n",
        "    \"Bashir\": 80,\n",
        "    \"Musa\": 95,\n",
        "    \"Dauda\": 85,\n",
        "    \"Khadija\": 92\n",
        "}\n",
        "\n",
        "# Function to calc. Higest grade\n",
        "def find_highest_grade(students):\n",
        "    highest_grade = 0\n",
        "    highest_grade_student = \"\"\n",
        "\n",
        "    for student, grade in students.items():\n",
        "        if grade > highest_grade:\n",
        "            highest_grade = grade\n",
        "            highest_grade_student = student\n",
        "\n",
        "    return highest_grade_student\n",
        "# Function to calc. Average Score\n",
        "def calculate_average_score(students):\n",
        "    total_score = 0\n",
        "    num_students = len(students)\n",
        "\n",
        "    for grade in students.values():\n",
        "        total_score += grade\n",
        "\n",
        "    average_score = total_score / num_students\n",
        "    return average_score\n",
        "\n",
        "\n",
        "\n",
        "print(\"Student Data:\")\n",
        "for student, grade in student_data.items():\n",
        "    print(f\"{student}: {grade}\")\n",
        "\n",
        "highest_grade_student = find_highest_grade(student_data)\n",
        "average_score = calculate_average_score(student_data)\n",
        "\n",
        "print(\"\\nAnalysis:\")\n",
        "print(f\"Highest Grade: {highest_grade_student}\")\n",
        "print(f\"Average Score: {average_score}\")\n"
      ]
    }
  ]
}